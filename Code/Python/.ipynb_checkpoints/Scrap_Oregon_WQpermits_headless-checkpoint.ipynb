{
 "cells": [
  {
   "cell_type": "code",
   "execution_count": 110,
   "metadata": {
    "collapsed": false
   },
   "outputs": [],
   "source": [
    "import csv\n",
    "import io\n",
    "import urllib.request\n",
    "import csv\n",
    "import time\n",
    "import pandas\n",
    "import csv\n",
    "import urlopen\n",
    "import html5lib\n",
    "from bs4 import BeautifulSoup\n",
    "\n",
    "url = 'https://raw.githubusercontent.com/tylerascott/quinalt/master/Input/ODEQ_Active_Wastewater.csv'\n",
    "webpage = urllib.request.urlopen(url)\n",
    "csv_f = csv.reader(io.TextIOWrapper(webpage))\n",
    "facility_id = []\n",
    "for row in csv_f:\n",
    "  facility_id.append(row[0])\n",
    "del(facility_id[0])\n",
    "from selenium import webdriver\n",
    "from selenium.webdriver.common.keys import Keys\n",
    "\n",
    "newinfo = []\n",
    "\n",
    "#run batch1\n",
    "driver = webdriver.PhantomJS()\n",
    "driver.get(\"http://www.deq.state.or.us/wq/sisdata/facilitycriteria.asp\")\n",
    "\n",
    "facility_id = facility_id[0:2]\n",
    "\n",
    "for id in facility_id:\n",
    "    facid = driver.find_element_by_name('SiteID')\n",
    "    facid.send_keys(id)\n",
    "    driver.find_element_by_name(\"Submit\").click()\n",
    "    driver.find_element_by_partial_link_text(id).click()\n",
    "    data = driver.find_element_by_id('printarea')\n",
    "    newinfo.append(data.text)\n",
    "    table = driver.find_element_by_id('printarea').text\n",
    "    driver.back()\n",
    "    driver.find_element_by_link_text('click here').click()\n",
    "    time.sleep(.05)\n"
   ]
  },
  {
   "cell_type": "code",
   "execution_count": 120,
   "metadata": {
    "collapsed": false
   },
   "outputs": [
    {
     "data": {
      "text/plain": [
       "'  All Cities\\n  \\n  ADAMS, UMATILLA County\\n  \\n  ALBANY, LINN County\\n  \\n  ALOHA, WASHINGTON County\\n  \\n  AMITY, YAMHILL County\\n  \\n  ANTELOPE, WASCO County\\n  \\n  ARLINGTON, GILLIAM County\\n  \\n  ASHLAND, JACKSON County\\n  \\n  ASTORIA, CLATSOP County\\n  \\n  ATHENA, UMATILLA County\\n  \\n  AUMSVILLE, MARION County\\n  \\n  AURORA, MARION County\\n  \\n  BAKER, BAKER County\\n  \\n  BANDON, COOS County\\n  \\n  BANKS, WASHINGTON County\\n  \\n  BARLOW, CLACKAMAS County\\n  \\n  BAY CITY, TILLAMOOK County\\n  \\n  BEAVERTON, WASHINGTON County\\n  \\n  BEND, DESCHUTES County\\n  \\n  BIRKENFELD, COLUMBIA County\\n  \\n  BOARDMAN, MORROW County\\n  \\n  BONANZA, KLAMATH County\\n  \\n  BORING, CLACKAMAS County\\n  \\n  BRIDAL VEIL, MULTNOMAH County\\n  \\n  BRIGHTWOOD, CLACKAMAS County\\n  \\n  BROOKINGS, CURRY County\\n  \\n  BROWNSVILLE, LINN County\\n  \\n  BURNS, HARNEY County\\n  \\n  BUTTE FALLS, JACKSON County\\n  \\n  BUXTON, WASHINGTON County\\n  \\n  CANBY, CLACKAMAS County\\n  \\n  CANNON BEACH, CLATSOP County\\n  \\n  CANYON CITY, GRANT County\\n  \\n  CANYONVILLE, DOUGLAS County\\n  \\n  CARLTON, YAMHILL County\\n  \\n  CARVER, CLACKAMAS County\\n  \\n  CASCADE LOCKS, HOOD RIVER County\\n  \\n  CAVE JUNCTION, JOSEPHINE County\\n  \\n  CENTRAL POINT, JACKSON County\\n  \\n  CHERRY GROVE, WASHINGTON County\\n  \\n  CHILOQUIN, KLAMATH County\\n  \\n  CLACKAMAS, CLACKAMAS County\\n  \\n  CLATSKANIE, COLUMBIA County\\n  \\n  COBURG, LANE County\\n  \\n  COLTON, CLACKAMAS County\\n  \\n  COLUMBIA CITY, COLUMBIA County\\n  \\n  CONDON, GILLIAM County\\n  \\n  COOS BAY, COOS County\\n  \\n  COQUILLE, COOS County\\n  \\n  CORNELIUS, WASHINGTON County\\n  \\n  CORVALLIS, BENTON County\\n  \\n  COTTAGE GROVE, LANE County\\n  \\n  COVE, UNION County\\n  \\n  CRESWELL, LANE County\\n  \\n  CULVER, JEFFERSON County\\n  \\n  DALLAS, POLK County\\n  \\n  DAMASCUS, CLACKAMAS County\\n  \\n  DAYTON, YAMHILL County\\n  \\n  DAYVILLE, GRANT County\\n  \\n  DEER ISLAND, COLUMBIA County\\n  \\n  DETROIT, MARION County\\n  \\n  DONALD, MARION County\\n  \\n  DRAIN, DOUGLAS County\\n  \\n  DUFUR, WASCO County\\n  \\n  DUNDEE, YAMHILL County\\n  \\n  DUNES, LANE County\\n  \\n  DURHAM, WASHINGTON County\\n  \\n  EAGLE CREEK, CLACKAMAS County\\n  \\n  EAGLE POINT, JACKSON County\\n  \\n  EASTSIDE, COOS County\\n  \\n  ECHO, UMATILLA County\\n  \\n  ELGIN, UNION County\\n  \\n  ELKTON, DOUGLAS County\\n  \\n  ENTERPRISE, WALLOWA County\\n  \\n  ESTACADA, CLACKAMAS County\\n  \\n  EUGENE, LANE County\\n  \\n  FAIRVIEW, MULTNOMAH County\\n  \\n  FALLS CITY, POLK County\\n  \\n  FLORENCE, LANE County\\n  \\n  FOREST GROVE, WASHINGTON County\\n  \\n  FOSSIL, WHEELER County\\n  \\n  GALES CREEK, WASHINGTON County\\n  \\n  GARIBALDI, TILLAMOOK County\\n  \\n  GASTON, WASHINGTON County\\n  \\n  GATES, MARION County\\n  \\n  GEARHART, CLATSOP County\\n  \\n  GERVAIS, MARION County\\n  \\n  GLADSTONE, CLACKAMAS County\\n  \\n  GLENDALE, DOUGLAS County\\n  \\n  GOBLE, COLUMBIA County\\n  \\n  GOLD BEACH, CURRY County\\n  \\n  GOLD HILL, JACKSON County\\n  \\n  GRANITE, GRANT County\\n  \\n  GRANTS PASS, JOSEPHINE County\\n  \\n  GRASS VALLEY, SHERMAN County\\n  \\n  GRESHAM, MULTNOMAH County\\n  \\n  HAINES, BAKER County\\n  \\n  HALFWAY, BAKER County\\n  \\n  HALSEY, LINN County\\n  \\n  HAMMOND, CLATSOP County\\n  \\n  HAPPY VALLEY, CLACKAMAS County\\n  \\n  HARRISBURG, LINN County\\n  \\n  HAUSER, COOS County\\n  \\n  HELIX, UMATILLA County\\n  \\n  HEPPNER, MORROW County\\n  \\n  HERMISTON, UMATILLA County\\n  \\n  HILLSBORO, WASHINGTON County\\n  \\n  HINES, HARNEY County\\n  \\n  HOOD RIVER, HOOD RIVER County\\n  \\n  HUBBARD, MARION County\\n  \\n  HUNTINGTON, BAKER County\\n  \\n  IDANHA, MARION County\\n  \\n  IMBLER, UNION County\\n  \\n  INDEPENDENCE, POLK County\\n  \\n  IONE, MORROW County\\n  \\n  IRRIGON, MORROW County\\n  \\n  ISLAND CITY, UNION County\\n  \\n  JACKSONVILLE, JACKSON County\\n  \\n  JEFFERSON, MARION County\\n  \\n  JOHN DAY, GRANT County\\n  \\n  JORDAN VALLEY, MALHEUR County\\n  \\n  JOSEPH, WALLOWA County\\n  \\n  JUNCTION CITY, LANE County\\n  \\n  JUNTURA, MALHEUR County\\n  \\n  KING CITY, WASHINGTON County\\n  \\n  KLAMATH FALLS, KLAMATH County\\n  \\n  LA GRANDE, UNION County\\n  \\n  LAFAYETTE, YAMHILL County\\n  \\n  LAKE GROVE, CLACKAMAS County\\n  \\n  LAKE OSWEGO, CLACKAMAS County\\n  \\n  LAKEVIEW, LAKE County\\n  \\n  LEBANON, LINN County\\n  \\n  LEXINGTON, MORROW County\\n  \\n  LINCOLN CITY, LINCOLN County\\n  \\n  LONEROCK, GILLIAM County\\n  \\n  LONG CREEK, GRANT County\\n  \\n  LOSTINE, WALLOWA County\\n  \\n  LOWELL, LANE County\\n  \\n  LYONS, LINN County\\n  \\n  MADRAS, JEFFERSON County\\n  \\n  MALIN, KLAMATH County\\n  \\n  MAUPIN, WASCO County\\n  \\n  MCMINNVILLE, YAMHILL County\\n  \\n  MEDFORD, JACKSON County\\n  \\n  MERRILL, KLAMATH County\\n  \\n  METOLIUS, JEFFERSON County\\n  \\n  MILL CITY, LINN County\\n  \\n  MILTON-FREEWATER, UMATILLA County\\n  \\n  MILWAUKIE, CLACKAMAS County\\n  \\n  MIST, COLUMBIA County\\n  \\n  MITCHELL, WHEELER County\\n  \\n  MOLALLA, CLACKAMAS County\\n  \\n  MONMOUTH, POLK County\\n  \\n  MONROE, BENTON County\\n  \\n  MONUMENT, GRANT County\\n  \\n  MORO, SHERMAN County\\n  \\n  MOSIER, WASCO County\\n  \\n  MT. ANGEL, MARION County\\n  \\n  MT. VERNON, GRANT County\\n  \\n  MULINO, CLACKAMAS County\\n  \\n  MYRTLE CREEK, DOUGLAS County\\n  \\n  MYRTLE POINT, COOS County\\n  \\n  NEHALEM, TILLAMOOK County\\n  \\n  NEWBERG, YAMHILL County\\n  \\n  NEWPORT, LINCOLN County\\n  \\n  NORTH BEND, COOS County\\n  \\n  NORTH PLAINS, WASHINGTON County\\n  \\n  NORTH POWDER, UNION County\\n  \\n  NYSSA, MALHEUR County\\n  \\n  OAK GROVE, CLACKAMAS County\\n  \\n  OAKLAND, DOUGLAS County\\n  \\n  OAKRIDGE, LANE County\\n  \\n  ONTARIO, MALHEUR County\\n  \\n  OREGON CITY, CLACKAMAS County\\n  \\n  ORIENT, CLACKAMAS County\\n  \\n  PAISLEY, LAKE County\\n  \\n  PENDLETON, UMATILLA County\\n  \\n  PHILOMATH, BENTON County\\n  \\n  PHOENIX, JACKSON County\\n  \\n  PILOT ROCK, UMATILLA County\\n  \\n  PLEASANT HOME, MULTNOMAH County\\n  \\n  PORT ORFORD, CURRY County\\n  \\n  PORTLAND, MULTNOMAH County\\n  \\n  POWERS, COOS County\\n  \\n  PRAIRIE CITY, GRANT County\\n  \\n  PRESCOTT, COLUMBIA County\\n  \\n  PRINEVILLE, CROOK County\\n  \\n  PROGRESS, WASHINGTON County\\n  \\n  RAINIER, COLUMBIA County\\n  \\n  REDMOND, DESCHUTES County\\n  \\n  REEDSPORT, DOUGLAS County\\n  \\n  RICHLAND, BAKER County\\n  \\n  RIDDLE, DOUGLAS County\\n  \\n  ROGUE RIVER, JACKSON County\\n  \\n  ROSEBURG, DOUGLAS County\\n  \\n  RUFUS, SHERMAN County\\n  \\n  SALEM, MARION County\\n  \\n  SANDY, CLACKAMAS County\\n  \\n  SCAPPOOSE, COLUMBIA County\\n  \\n  SCIO, LINN County\\n  \\n  SCOTTS MILLS, CLACKAMAS County\\n  \\n  SCOTTS MILLS, MARION County\\n  \\n  SEASIDE, CLATSOP County\\n  \\n  SHANIKO, WASCO County\\n  \\n  SHERIDAN, YAMHILL County\\n  \\n  SHERWOOD, WASHINGTON County\\n  \\n  SILETZ, LINCOLN County\\n  \\n  SILVERTON, MARION County\\n  \\n  SISTERS, DESCHUTES County\\n  \\n  SODAVILLE, LINN County\\n  \\n  SPRAY, WHEELER County\\n  \\n  SPRINGFIELD, LANE County\\n  \\n  ST. HELENS, COLUMBIA County\\n  \\n  ST. PAUL, MARION County\\n  \\n  STANFIELD, UMATILLA County\\n  \\n  STAYTON, MARION County\\n  \\n  SUBLIMITY, MARION County\\n  \\n  SUMMERVILLE, UNION County\\n  \\n  SUMPTER, BAKER County\\n  \\n  SUTHERLIN, DOUGLAS County\\n  \\n  SWEET HOME, LINN County\\n  \\n  TALENT, JACKSON County\\n  \\n  THE DALLES, WASCO County\\n  \\n  TIGARD, WASHINGTON County\\n  \\n  TILLAMOOK, TILLAMOOK County\\n  \\n  TOLEDO, LINCOLN County\\n  \\n  TROUTDALE, MULTNOMAH County\\n  \\n  TUALATIN, WASHINGTON County\\n  \\n  TURNER, MARION County\\n  \\n  UMAPINE, UMATILLA County\\n  \\n  UMATILLA, UMATILLA County\\n  \\n  UNINC, MORROW County\\n  \\n  UNINC, POLK County\\n  \\n  UNINC, TILLAMOOK County\\n  \\n  UNINC, UMATILLA County\\n  \\n  UNINC, WASHINGTON County\\n  \\n  UNINC, MALHEUR County\\n  \\n  UNINC, LINN County\\n  \\n  UNINC, MARION County\\n  \\n  UNINC, MULTNOMAH County\\n  \\n  UNINC, SHERMAN County\\n  \\n  UNINC, YAMHILL County\\n  \\n  UNINC, UNION County\\n  \\n  UNINC, WALLOWA County\\n  \\n  UNINC, WASCO County\\n  \\n  UNINC, WHEELER County\\n  \\n  UNINC, LANE County\\n  \\n  UNINC, GILLIAM County\\n  \\n  UNINC, LINCOLN County\\n  \\n  UNINC, LAKE County\\n  \\n  UNINC, JEFFERSON County\\n  \\n  UNINC, JOSEPHINE County\\n  \\n  UNINC, JACKSON County\\n  \\n  UNINC, KLAMATH County\\n  \\n  UNINC, CURRY County\\n  \\n  UNINC, HOOD RIVER County\\n  \\n  UNINC, GRANT County\\n  \\n  UNINC, HARNEY County\\n  \\n  UNINC, DOUGLAS County\\n  \\n  UNINC, DESCHUTES County\\n  \\n  UNINC, BAKER County\\n  \\n  UNINC, CLATSOP County\\n  \\n  UNINC, CROOK County\\n  \\n  UNINC, COLUMBIA County\\n  \\n  UNINC, COOS County\\n  \\n  UNINC, BENTON County\\n  \\n  UNINC, CLACKAMAS County\\n  \\n  UNION, UNION County\\n  \\n  VALE, MALHEUR County\\n  \\n  VENETA, LANE County\\n  \\n  VERNONIA, COLUMBIA County\\n  \\n  WALDPORT, LINCOLN County\\n  \\n  WALLOWA, WALLOWA County\\n  \\n  WARREN, COLUMBIA County\\n  \\n  WARRENTON, CLATSOP County\\n  \\n  WASCO, SHERMAN County\\n  \\n  WATERLOO, LINN County\\n  \\n  WEST LINN, CLACKAMAS County\\n  \\n  WEST UNION, WASHINGTON County\\n  \\n  WESTON, UMATILLA County\\n  \\n  WHEELER, TILLAMOOK County\\n  \\n  WILLAMINA, YAMHILL County\\n  \\n  WILSONVILLE, CLACKAMAS County\\n  \\n  WINSTON, DOUGLAS County\\n  \\n  WOOD VILLAGE, MULTNOMAH County\\n  \\n  WOODBURN, MARION County\\n  \\n  YACHATS, LINCOLN County\\n  \\n  YAMHILL, YAMHILL County\\n  \\n  YONCALLA, DOUGLAS County\\n  \\n  '"
      ]
     },
     "execution_count": 120,
     "metadata": {},
     "output_type": "execute_result"
    }
   ],
   "source": [
    "driver.find_element_by_name('City').text"
   ]
  },
  {
   "cell_type": "code",
   "execution_count": 113,
   "metadata": {
    "collapsed": false
   },
   "outputs": [
    {
     "name": "stdout",
     "output_type": "stream",
     "text": [
      "Active Permits for 1901 13TH LLC - WQ File Number: 117475\n",
      "The permits listed below are the currently active permits for this facility. If you wish to see details on the applications that led to these permits click on the application number below.\n",
      "If you wish to see the details on any pending applications for this facility click here.\n",
      "Field Record\n",
      "Legal Name 1901 13TH LLC\n",
      "Common Name 13TH AVENUE PROPERTY\n",
      "Street Address 1901 13TH AVE SW\n",
      "City ALBANY\n",
      "Zip Code 97321-1886\n",
      "County LINN\n",
      "DEQ Region WR\n",
      "Primary SIC Code 1521\n",
      "Facility Type Description SINGLE FAMILY HOUSING CONSTR.\n",
      "Latitude 44.6261\n",
      "Longitude -123.1247\n",
      "Permit Type GEN12C\n",
      "Permit Description Stormwater; NPDES construction more than 1 acre disturbed ground\n",
      "Category STM\n",
      "Class MINOR\n",
      "Start Date 10/17/2007\n",
      "Expiration Date 11/30/2015\n",
      "Active Permit True\n",
      "UIC Facility False\n",
      "Administrative Agent Salem Office\n",
      "Last Action Date 6/8/2015\n",
      "Last Action Description Admin extended\n",
      "Permit Writer Sewell\n",
      "Compliance Inspector\n",
      "DMR Reviewer Dicksa\n",
      "Permit Application Number 958683\n",
      "EPA Number ORR10B693\n",
      "\n"
     ]
    }
   ],
   "source": [
    "from bs4 import BeautifulSoup\n",
    "soup = BeautifulSoup(table, 'html.parser')\n",
    "\n",
    "print(soup.prettify())"
   ]
  },
  {
   "cell_type": "code",
   "execution_count": 92,
   "metadata": {
    "collapsed": false
   },
   "outputs": [
    {
     "data": {
      "text/html": [
       "<div style=\"max-height:1000px;max-width:1500px;overflow:auto;\">\n",
       "<table border=\"1\" class=\"dataframe\">\n",
       "  <thead>\n",
       "    <tr style=\"text-align: right;\">\n",
       "      <th></th>\n",
       "      <th>Start</th>\n",
       "    </tr>\n",
       "  </thead>\n",
       "  <tbody>\n",
       "  </tbody>\n",
       "</table>\n",
       "</div>"
      ],
      "text/plain": [
       "Empty DataFrame\n",
       "Columns: [Start]\n",
       "Index: []"
      ]
     },
     "execution_count": 92,
     "metadata": {},
     "output_type": "execute_result"
    }
   ],
   "source": []
  },
  {
   "cell_type": "code",
   "execution_count": 97,
   "metadata": {
    "collapsed": false
   },
   "outputs": [],
   "source": [
    "temp = pandas.DataFrame(newinfo)\n"
   ]
  },
  {
   "cell_type": "code",
   "execution_count": 100,
   "metadata": {
    "collapsed": false
   },
   "outputs": [
    {
     "data": {
      "text/plain": [
       "'Active Permits for 12TH & OVERTON LLC - WQ File Number: 123515\\nThe permits listed below are the currently active permits for this facility. If you wish to see details on the applications that led to these permits click on the application number below.\\nIf you wish to see the details on any pending applications for this facility click here.\\nField Record\\nLegal Name 12TH & OVERTON LLC\\nCommon Name 12TH & OVERTON LLC\\nStreet Address 1301 NW 12TH AVE\\nCity PORTLAND\\nZip Code 97209-2812\\nCounty MULTNOMAH\\nDEQ Region NWR\\nPrimary SIC Code 1522\\nFacility Type Description RESIDENTIAL CONSTRUCTION, NEC\\nLatitude 45.5322\\nLongitude -122.6835\\nPermit Type GEN12C\\nPermit Description Stormwater; NPDES construction more than 1 acre disturbed ground\\nCategory STM\\nClass MINOR\\nStart Date 1/23/2014\\nExpiration Date 11/30/2015\\nActive Permit True\\nUIC Facility False\\nAdministrative Agent NW Region Office\\nLast Action Date 6/15/2015\\nLast Action Description Admin extended\\nPermit Writer Stellmach\\nCompliance Inspector\\nDMR Reviewer\\nPermit Application Number 958638\\nEPA Number ORR10D613'"
      ]
     },
     "execution_count": 100,
     "metadata": {},
     "output_type": "execute_result"
    }
   ],
   "source": [
    "\n",
    "newinfo = pandas.DataFrame()\n",
    "newinfo['ID'] = []\n",
    "newinfo['Start'] = []\n",
    "newinfo['End'] = []\n",
    "newinfo['Latitude'] = []\n",
    "newinfo['Longitude'] = []\n",
    "newinfo['PermitType'] = []\n",
    "newinfo['County'] = []\n",
    "newinfo['ZipCode'] = []\n"
   ]
  },
  {
   "cell_type": "code",
   "execution_count": 94,
   "metadata": {
    "collapsed": false
   },
   "outputs": [
    {
     "data": {
      "text/html": [
       "<div style=\"max-height:1000px;max-width:1500px;overflow:auto;\">\n",
       "<table border=\"1\" class=\"dataframe\">\n",
       "  <thead>\n",
       "    <tr style=\"text-align: right;\">\n",
       "      <th></th>\n",
       "    </tr>\n",
       "  </thead>\n",
       "  <tbody>\n",
       "  </tbody>\n",
       "</table>\n",
       "</div>"
      ],
      "text/plain": [
       "Empty DataFrame\n",
       "Columns: []\n",
       "Index: []"
      ]
     },
     "execution_count": 94,
     "metadata": {},
     "output_type": "execute_result"
    }
   ],
   "source": [
    "temp"
   ]
  }
 ],
 "metadata": {
  "kernelspec": {
   "display_name": "Python 3",
   "language": "python",
   "name": "python3"
  },
  "language_info": {
   "codemirror_mode": {
    "name": "ipython",
    "version": 3
   },
   "file_extension": ".py",
   "mimetype": "text/x-python",
   "name": "python",
   "nbconvert_exporter": "python",
   "pygments_lexer": "ipython3",
   "version": "3.4.3"
  }
 },
 "nbformat": 4,
 "nbformat_minor": 0
}
