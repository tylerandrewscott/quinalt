{
 "cells": [
  {
   "cell_type": "code",
   "execution_count": 126,
   "metadata": {
    "collapsed": true
   },
   "outputs": [],
   "source": [
    "import csv\n",
    "import time"
   ]
  },
  {
   "cell_type": "code",
   "execution_count": 127,
   "metadata": {
    "collapsed": false
   },
   "outputs": [],
   "source": [
    "f = open('//Users/TScott/Downloads/Client249.csv')\n",
    "csv_f = csv.reader(f)\n",
    "facility_id = []\n",
    "for row in csv_f:\n",
    "  facility_id.append(row[0])\n",
    "del(facility_id[0])\n",
    "from selenium import webdriver\n",
    "from selenium.webdriver.common.keys import Keys\n",
    "\n",
    "newinfo = []"
   ]
  },
  {
   "cell_type": "code",
   "execution_count": null,
   "metadata": {
    "collapsed": false
   },
   "outputs": [],
   "source": [
    "driver = webdriver.Firefox()\n",
    "driver.get(\"http://www.deq.state.or.us/wq/sisdata/facilitycriteria.asp\")\n",
    "for id in facility_id:\n",
    "    facid = driver.find_element_by_name('SiteID')\n",
    "    facid.send_keys(id)\n",
    "    driver.find_element_by_name(\"Submit\").click()\n",
    "    driver.find_element_by_partial_link_text(id).click()\n",
    "    data = driver.find_element_by_id('printarea')\n",
    "    newinfo.append(data.text)\n",
    "    driver.back()\n",
    "    driver.find_element_by_link_text('click here').click()\n",
    "    time.sleep(1.5)"
   ]
  }
 ],
 "metadata": {
  "kernelspec": {
   "display_name": "Python 3",
   "language": "python",
   "name": "python3"
  },
  "language_info": {
   "codemirror_mode": {
    "name": "ipython",
    "version": 3
   },
   "file_extension": ".py",
   "mimetype": "text/x-python",
   "name": "python",
   "nbconvert_exporter": "python",
   "pygments_lexer": "ipython3",
   "version": "3.4.3"
  }
 },
 "nbformat": 4,
 "nbformat_minor": 0
}
